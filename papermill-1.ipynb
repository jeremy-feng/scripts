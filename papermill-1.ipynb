{
 "cells": [
  {
   "cell_type": "code",
   "execution_count": 1,
   "metadata": {},
   "outputs": [],
   "source": [
    "import time\n",
    "\n",
    "import numpy as np\n",
    "import pandas as pd\n",
    "import papermill as pm"
   ]
  },
  {
   "cell_type": "code",
   "execution_count": 2,
   "metadata": {},
   "outputs": [
    {
     "data": {
      "application/vnd.jupyter.widget-view+json": {
       "model_id": "3cf4fb3e63b64e02b41968a2031fb2a6",
       "version_major": 2,
       "version_minor": 0
      },
      "text/plain": [
       "Executing:   0%|          | 0/2 [00:00<?, ?cell/s]"
      ]
     },
     "metadata": {},
     "output_type": "display_data"
    },
    {
     "name": "stdout",
     "output_type": "stream",
     "text": [
      "第二个 Notebook 已经被运行\n"
     ]
    }
   ],
   "source": [
    "# 创建 DataFrame\n",
    "dates = pd.date_range(start=\"2020-01-01\", end=\"2020-12-31\")\n",
    "np.random.seed(42)\n",
    "data = np.cumsum(np.random.randn(len(dates)) + 0.1)\n",
    "df = pd.DataFrame(data, index=dates, columns=[\"Value\"])\n",
    "\n",
    "# 将 DataFrame 导出为 CSV 文件\n",
    "df.to_csv(\"papermill-data.csv\")\n",
    "time.sleep(2)\n",
    "\n",
    "# 使用 Papermill 运行第二个 Notebook\n",
    "pm.execute_notebook(\n",
    "    input_path=\"papermill-2.ipynb\",\n",
    "    output_path=\"papermill-2.ipynb\",\n",
    ")\n",
    "\n",
    "print(\"第二个 Notebook 已经被运行\")"
   ]
  }
 ],
 "metadata": {
  "kernelspec": {
   "display_name": "base",
   "language": "python",
   "name": "python3"
  },
  "language_info": {
   "codemirror_mode": {
    "name": "ipython",
    "version": 3
   },
   "file_extension": ".py",
   "mimetype": "text/x-python",
   "name": "python",
   "nbconvert_exporter": "python",
   "pygments_lexer": "ipython3",
   "version": "3.8.16"
  }
 },
 "nbformat": 4,
 "nbformat_minor": 2
}
