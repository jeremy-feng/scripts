{
 "cells": [
  {
   "cell_type": "code",
   "execution_count": 1,
   "metadata": {},
   "outputs": [],
   "source": [
    "import pandas as pd\n",
    "import numpy as np\n",
    "import akshare as ak\n",
    "from numpy_ext import rolling_apply"
   ]
  },
  {
   "cell_type": "code",
   "execution_count": 2,
   "metadata": {},
   "outputs": [],
   "source": [
    "# 获取分钟数据\n",
    "df = ak.stock_zh_a_minute(symbol='sh000001', period='1')\n",
    "# 将除'day'外的各列的字符串转换为数值\n",
    "df =  df.apply(pd.to_numeric, errors='ignore')"
   ]
  },
  {
   "cell_type": "code",
   "execution_count": 3,
   "metadata": {},
   "outputs": [
    {
     "data": {
      "text/html": [
       "<div>\n",
       "<style scoped>\n",
       "    .dataframe tbody tr th:only-of-type {\n",
       "        vertical-align: middle;\n",
       "    }\n",
       "\n",
       "    .dataframe tbody tr th {\n",
       "        vertical-align: top;\n",
       "    }\n",
       "\n",
       "    .dataframe thead th {\n",
       "        text-align: right;\n",
       "    }\n",
       "</style>\n",
       "<table border=\"1\" class=\"dataframe\">\n",
       "  <thead>\n",
       "    <tr style=\"text-align: right;\">\n",
       "      <th></th>\n",
       "      <th>day</th>\n",
       "      <th>open</th>\n",
       "      <th>high</th>\n",
       "      <th>low</th>\n",
       "      <th>close</th>\n",
       "      <th>volume</th>\n",
       "    </tr>\n",
       "  </thead>\n",
       "  <tbody>\n",
       "    <tr>\n",
       "      <th>0</th>\n",
       "      <td>2022-07-20 11:23:00</td>\n",
       "      <td>3301.781</td>\n",
       "      <td>3301.876</td>\n",
       "      <td>3300.838</td>\n",
       "      <td>3301.756</td>\n",
       "      <td>73882300</td>\n",
       "    </tr>\n",
       "    <tr>\n",
       "      <th>1</th>\n",
       "      <td>2022-07-20 11:24:00</td>\n",
       "      <td>3301.921</td>\n",
       "      <td>3302.014</td>\n",
       "      <td>3300.916</td>\n",
       "      <td>3301.312</td>\n",
       "      <td>68880500</td>\n",
       "    </tr>\n",
       "    <tr>\n",
       "      <th>2</th>\n",
       "      <td>2022-07-20 11:25:00</td>\n",
       "      <td>3301.267</td>\n",
       "      <td>3301.582</td>\n",
       "      <td>3300.829</td>\n",
       "      <td>3301.205</td>\n",
       "      <td>64910100</td>\n",
       "    </tr>\n",
       "    <tr>\n",
       "      <th>3</th>\n",
       "      <td>2022-07-20 11:26:00</td>\n",
       "      <td>3301.789</td>\n",
       "      <td>3302.333</td>\n",
       "      <td>3301.431</td>\n",
       "      <td>3301.686</td>\n",
       "      <td>62111600</td>\n",
       "    </tr>\n",
       "    <tr>\n",
       "      <th>4</th>\n",
       "      <td>2022-07-20 11:27:00</td>\n",
       "      <td>3301.815</td>\n",
       "      <td>3301.815</td>\n",
       "      <td>3301.075</td>\n",
       "      <td>3301.211</td>\n",
       "      <td>61409100</td>\n",
       "    </tr>\n",
       "    <tr>\n",
       "      <th>...</th>\n",
       "      <td>...</td>\n",
       "      <td>...</td>\n",
       "      <td>...</td>\n",
       "      <td>...</td>\n",
       "      <td>...</td>\n",
       "      <td>...</td>\n",
       "    </tr>\n",
       "    <tr>\n",
       "      <th>29995</th>\n",
       "      <td>2023-01-20 14:55:00</td>\n",
       "      <td>3262.308</td>\n",
       "      <td>3262.309</td>\n",
       "      <td>3261.467</td>\n",
       "      <td>3261.991</td>\n",
       "      <td>216202300</td>\n",
       "    </tr>\n",
       "    <tr>\n",
       "      <th>29996</th>\n",
       "      <td>2023-01-20 14:56:00</td>\n",
       "      <td>3262.316</td>\n",
       "      <td>3262.492</td>\n",
       "      <td>3261.679</td>\n",
       "      <td>3262.407</td>\n",
       "      <td>227037500</td>\n",
       "    </tr>\n",
       "    <tr>\n",
       "      <th>29997</th>\n",
       "      <td>2023-01-20 14:57:00</td>\n",
       "      <td>3262.022</td>\n",
       "      <td>3262.337</td>\n",
       "      <td>3261.556</td>\n",
       "      <td>3261.948</td>\n",
       "      <td>235980300</td>\n",
       "    </tr>\n",
       "    <tr>\n",
       "      <th>29998</th>\n",
       "      <td>2023-01-20 14:58:00</td>\n",
       "      <td>3261.840</td>\n",
       "      <td>3262.260</td>\n",
       "      <td>3261.840</td>\n",
       "      <td>3262.260</td>\n",
       "      <td>16865600</td>\n",
       "    </tr>\n",
       "    <tr>\n",
       "      <th>29999</th>\n",
       "      <td>2023-01-20 15:00:00</td>\n",
       "      <td>3263.136</td>\n",
       "      <td>3264.814</td>\n",
       "      <td>3263.136</td>\n",
       "      <td>3264.814</td>\n",
       "      <td>520678900</td>\n",
       "    </tr>\n",
       "  </tbody>\n",
       "</table>\n",
       "<p>30000 rows × 6 columns</p>\n",
       "</div>"
      ],
      "text/plain": [
       "                       day      open      high       low     close     volume\n",
       "0      2022-07-20 11:23:00  3301.781  3301.876  3300.838  3301.756   73882300\n",
       "1      2022-07-20 11:24:00  3301.921  3302.014  3300.916  3301.312   68880500\n",
       "2      2022-07-20 11:25:00  3301.267  3301.582  3300.829  3301.205   64910100\n",
       "3      2022-07-20 11:26:00  3301.789  3302.333  3301.431  3301.686   62111600\n",
       "4      2022-07-20 11:27:00  3301.815  3301.815  3301.075  3301.211   61409100\n",
       "...                    ...       ...       ...       ...       ...        ...\n",
       "29995  2023-01-20 14:55:00  3262.308  3262.309  3261.467  3261.991  216202300\n",
       "29996  2023-01-20 14:56:00  3262.316  3262.492  3261.679  3262.407  227037500\n",
       "29997  2023-01-20 14:57:00  3262.022  3262.337  3261.556  3261.948  235980300\n",
       "29998  2023-01-20 14:58:00  3261.840  3262.260  3261.840  3262.260   16865600\n",
       "29999  2023-01-20 15:00:00  3263.136  3264.814  3263.136  3264.814  520678900\n",
       "\n",
       "[30000 rows x 6 columns]"
      ]
     },
     "execution_count": 3,
     "metadata": {},
     "output_type": "execute_result"
    }
   ],
   "source": [
    "df"
   ]
  },
  {
   "cell_type": "code",
   "execution_count": 4,
   "metadata": {},
   "outputs": [],
   "source": [
    "# 计算更优波动率\n",
    "def better_volatility_numpy_ext(o, h, l, c):\n",
    "    # 将4列数据合并成一个数组\n",
    "    data = np.array([o, h, l, c])\n",
    "    # 计算20个数据的标准差\n",
    "    std = np.std(data)\n",
    "    # 计算20个数据的均值\n",
    "    mean = np.mean(data)\n",
    "    # 计算更优波动率\n",
    "    return (std / mean) ** 2"
   ]
  },
  {
   "cell_type": "code",
   "execution_count": 5,
   "metadata": {},
   "outputs": [],
   "source": [
    "better_volatility_using_numpy_ext = rolling_apply(better_volatility_numpy_ext, 5, df['open'], df['high'], df['low'], df['close'])"
   ]
  },
  {
   "cell_type": "code",
   "execution_count": 8,
   "metadata": {},
   "outputs": [
    {
     "data": {
      "text/plain": [
       "array([           nan,            nan,            nan,            nan,\n",
       "       1.56392876e-08, 1.39366604e-08, 1.13857554e-08, 1.03195484e-08,\n",
       "       1.82236140e-08, 2.76023282e-08])"
      ]
     },
     "execution_count": 8,
     "metadata": {},
     "output_type": "execute_result"
    }
   ],
   "source": [
    "better_volatility_using_numpy_ext[:10]"
   ]
  },
  {
   "cell_type": "code",
   "execution_count": 9,
   "metadata": {},
   "outputs": [],
   "source": [
    "# 计算更优波动率\n",
    "def better_volatility_pandas(data):\n",
    "    # 计算20个数据的标准差\n",
    "    std = np.std(data)\n",
    "    # 计算20个数据的均值\n",
    "    mean = np.mean(data)\n",
    "    # 计算更优波动率\n",
    "    return (std / mean) ** 2"
   ]
  },
  {
   "cell_type": "code",
   "execution_count": 10,
   "metadata": {},
   "outputs": [],
   "source": [
    "better_volatility_using_pandas = df[['open', 'high', 'low', 'close']].rolling(5, method='table').apply(better_volatility_pandas, raw=True, engine='numba')"
   ]
  },
  {
   "cell_type": "code",
   "execution_count": 11,
   "metadata": {},
   "outputs": [
    {
     "data": {
      "text/html": [
       "<div>\n",
       "<style scoped>\n",
       "    .dataframe tbody tr th:only-of-type {\n",
       "        vertical-align: middle;\n",
       "    }\n",
       "\n",
       "    .dataframe tbody tr th {\n",
       "        vertical-align: top;\n",
       "    }\n",
       "\n",
       "    .dataframe thead th {\n",
       "        text-align: right;\n",
       "    }\n",
       "</style>\n",
       "<table border=\"1\" class=\"dataframe\">\n",
       "  <thead>\n",
       "    <tr style=\"text-align: right;\">\n",
       "      <th></th>\n",
       "      <th>open</th>\n",
       "      <th>high</th>\n",
       "      <th>low</th>\n",
       "      <th>close</th>\n",
       "    </tr>\n",
       "  </thead>\n",
       "  <tbody>\n",
       "    <tr>\n",
       "      <th>0</th>\n",
       "      <td>NaN</td>\n",
       "      <td>NaN</td>\n",
       "      <td>NaN</td>\n",
       "      <td>NaN</td>\n",
       "    </tr>\n",
       "    <tr>\n",
       "      <th>1</th>\n",
       "      <td>NaN</td>\n",
       "      <td>NaN</td>\n",
       "      <td>NaN</td>\n",
       "      <td>NaN</td>\n",
       "    </tr>\n",
       "    <tr>\n",
       "      <th>2</th>\n",
       "      <td>NaN</td>\n",
       "      <td>NaN</td>\n",
       "      <td>NaN</td>\n",
       "      <td>NaN</td>\n",
       "    </tr>\n",
       "    <tr>\n",
       "      <th>3</th>\n",
       "      <td>NaN</td>\n",
       "      <td>NaN</td>\n",
       "      <td>NaN</td>\n",
       "      <td>NaN</td>\n",
       "    </tr>\n",
       "    <tr>\n",
       "      <th>4</th>\n",
       "      <td>1.563929e-08</td>\n",
       "      <td>1.563929e-08</td>\n",
       "      <td>1.563929e-08</td>\n",
       "      <td>1.563929e-08</td>\n",
       "    </tr>\n",
       "    <tr>\n",
       "      <th>...</th>\n",
       "      <td>...</td>\n",
       "      <td>...</td>\n",
       "      <td>...</td>\n",
       "      <td>...</td>\n",
       "    </tr>\n",
       "    <tr>\n",
       "      <th>29995</th>\n",
       "      <td>1.310551e-08</td>\n",
       "      <td>1.310551e-08</td>\n",
       "      <td>1.310551e-08</td>\n",
       "      <td>1.310551e-08</td>\n",
       "    </tr>\n",
       "    <tr>\n",
       "      <th>29996</th>\n",
       "      <td>1.468630e-08</td>\n",
       "      <td>1.468630e-08</td>\n",
       "      <td>1.468630e-08</td>\n",
       "      <td>1.468630e-08</td>\n",
       "    </tr>\n",
       "    <tr>\n",
       "      <th>29997</th>\n",
       "      <td>1.075377e-08</td>\n",
       "      <td>1.075377e-08</td>\n",
       "      <td>1.075377e-08</td>\n",
       "      <td>1.075377e-08</td>\n",
       "    </tr>\n",
       "    <tr>\n",
       "      <th>29998</th>\n",
       "      <td>8.314668e-09</td>\n",
       "      <td>8.314668e-09</td>\n",
       "      <td>8.314668e-09</td>\n",
       "      <td>8.314668e-09</td>\n",
       "    </tr>\n",
       "    <tr>\n",
       "      <th>29999</th>\n",
       "      <td>7.523129e-08</td>\n",
       "      <td>7.523129e-08</td>\n",
       "      <td>7.523129e-08</td>\n",
       "      <td>7.523129e-08</td>\n",
       "    </tr>\n",
       "  </tbody>\n",
       "</table>\n",
       "<p>30000 rows × 4 columns</p>\n",
       "</div>"
      ],
      "text/plain": [
       "               open          high           low         close\n",
       "0               NaN           NaN           NaN           NaN\n",
       "1               NaN           NaN           NaN           NaN\n",
       "2               NaN           NaN           NaN           NaN\n",
       "3               NaN           NaN           NaN           NaN\n",
       "4      1.563929e-08  1.563929e-08  1.563929e-08  1.563929e-08\n",
       "...             ...           ...           ...           ...\n",
       "29995  1.310551e-08  1.310551e-08  1.310551e-08  1.310551e-08\n",
       "29996  1.468630e-08  1.468630e-08  1.468630e-08  1.468630e-08\n",
       "29997  1.075377e-08  1.075377e-08  1.075377e-08  1.075377e-08\n",
       "29998  8.314668e-09  8.314668e-09  8.314668e-09  8.314668e-09\n",
       "29999  7.523129e-08  7.523129e-08  7.523129e-08  7.523129e-08\n",
       "\n",
       "[30000 rows x 4 columns]"
      ]
     },
     "execution_count": 11,
     "metadata": {},
     "output_type": "execute_result"
    }
   ],
   "source": [
    "better_volatility_using_pandas"
   ]
  },
  {
   "cell_type": "markdown",
   "metadata": {},
   "source": [
    "这一条命令的输出是好几列相同的数据（计算和输出的时候和df的形状是匹配的），而我们需要的只有1列，所以需要单独取一下。"
   ]
  },
  {
   "cell_type": "code",
   "execution_count": 12,
   "metadata": {},
   "outputs": [],
   "source": [
    "better_volatility_using_pandas = better_volatility_using_pandas.iloc[:, 0].values"
   ]
  },
  {
   "cell_type": "code",
   "execution_count": 14,
   "metadata": {},
   "outputs": [
    {
     "data": {
      "text/plain": [
       "array([           nan,            nan,            nan,            nan,\n",
       "       1.56392876e-08, 1.39366604e-08, 1.13857554e-08, 1.03195484e-08,\n",
       "       1.82236140e-08, 2.76023282e-08])"
      ]
     },
     "execution_count": 14,
     "metadata": {},
     "output_type": "execute_result"
    }
   ],
   "source": [
    "better_volatility_using_pandas[:10]"
   ]
  },
  {
   "cell_type": "code",
   "execution_count": 15,
   "metadata": {},
   "outputs": [
    {
     "name": "stdout",
     "output_type": "stream",
     "text": [
      "1.5639287606963217e-08\n"
     ]
    }
   ],
   "source": [
    "# 手动验算，与上面的结果一致\n",
    "std = df.iloc[:5][['open', 'high', 'low', 'close']].values.std()\n",
    "mean = df.iloc[:5][['open', 'high', 'low', 'close']].values.mean()\n",
    "better_volatility_using_numpy = (std / mean) ** 2\n",
    "print(better_volatility_using_numpy)"
   ]
  }
 ],
 "metadata": {
  "kernelspec": {
   "display_name": "Python 3.8.13 ('base')",
   "language": "python",
   "name": "python3"
  },
  "language_info": {
   "codemirror_mode": {
    "name": "ipython",
    "version": 3
   },
   "file_extension": ".py",
   "mimetype": "text/x-python",
   "name": "python",
   "nbconvert_exporter": "python",
   "pygments_lexer": "ipython3",
   "version": "3.8.13"
  },
  "orig_nbformat": 4,
  "vscode": {
   "interpreter": {
    "hash": "d735f6cc625ca8b095620eeb46a50be5e34ded063dbe74c6d5dc8e1ec88bb29c"
   }
  }
 },
 "nbformat": 4,
 "nbformat_minor": 2
}
